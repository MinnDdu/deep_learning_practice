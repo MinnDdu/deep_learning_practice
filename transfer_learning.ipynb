{
  "nbformat": 4,
  "nbformat_minor": 0,
  "metadata": {
    "colab": {
      "provenance": [],
      "authorship_tag": "ABX9TyMfKsm1ZhKx6xWh/9sBysbP",
      "include_colab_link": true
    },
    "kernelspec": {
      "name": "python3",
      "display_name": "Python 3"
    },
    "language_info": {
      "name": "python"
    }
  },
  "cells": [
    {
      "cell_type": "markdown",
      "metadata": {
        "id": "view-in-github",
        "colab_type": "text"
      },
      "source": [
        "<a href=\"https://colab.research.google.com/github/MinnDdu/deep_learning_practice/blob/main/transfer_learning.ipynb\" target=\"_parent\"><img src=\"https://colab.research.google.com/assets/colab-badge.svg\" alt=\"Open In Colab\"/></a>"
      ]
    },
    {
      "cell_type": "markdown",
      "source": [
        "**Transfer Learning - 전이 학습**\n",
        "\n",
        "Visual Recognition 문제는 수많은 사람들이 이미 도전했던 문제임 \n",
        "\n",
        "결과가 좋았던 Conv + Pooling 모델들이 이미 많이 존재 \n",
        "-> 그 모델을 가져와서 개/고양이 분류문제 해결해보자\n",
        "\n",
        " \n",
        "\n",
        "1~3. 구글 Inception V3모델과 weight파일 로드해서 합치기 \n",
        "\n",
        "4. 학습금지 레이어 설정 \n",
        "\n",
        "5. Inception 모델에서 중간에 원하는 레이어만 잘라오기 \n",
        "\n",
        "6. 내 모델 만들고 (특히 출력층 레이어) Inception 모델과 연결\n",
        "\n",
        "7. 학습시키기"
      ],
      "metadata": {
        "id": "1vf7FCQytBu5"
      }
    },
    {
      "cell_type": "code",
      "execution_count": null,
      "metadata": {
        "colab": {
          "base_uri": "https://localhost:8080/"
        },
        "id": "IRxd9liihKF7",
        "outputId": "7f6b765d-28a7-41ee-ad41-8568991ac98a"
      },
      "outputs": [
        {
          "output_type": "stream",
          "name": "stdout",
          "text": [
            "Warning: Your Kaggle API key is readable by other users on this system! To fix this, you can run 'chmod 600 /content/kaggle.json'\n",
            "dogs-vs-cats-redux-kernels-edition.zip: Skipping, found more recently modified local copy (use --force to force download)\n"
          ]
        }
      ],
      "source": [
        "import os\n",
        "# 기존 개, 고양이 구별 프로젝트를 구글에서 가져온 모델을 이용해보자\n",
        "os.environ['KAGGLE_CONFIG_DIR'] = '/content/'\n",
        "\n",
        "!kaggle competitions download -c dogs-vs-cats-redux-kernels-edition\n",
        "!unzip -q dogs-vs-cats-redux-kernels-edition.zip\n",
        "!unzip -q train.zip -d ."
      ]
    },
    {
      "cell_type": "code",
      "source": [
        "import os\n",
        "import tensorflow as tf\n",
        "import shutil\n",
        "# 데이터셋 준비\n",
        "os.mkdir('/content/dataset')\n",
        "os.mkdir('/content/dataset/dog')\n",
        "os.mkdir('/content/dataset/cat')\n",
        "\n",
        "for i in os.listdir('/content/train/'):\n",
        "    if 'dog' in i:\n",
        "        shutil.copyfile('/content/train/' + i, '/content/dataset/dog/' + i)\n",
        "    if 'cat' in i:\n",
        "        shutil.copyfile('/content/train/' + i, '/content/dataset/cat/' + i)\n",
        "\n",
        "train_ds = tf.keras.preprocessing.image_dataset_from_directory(\n",
        "    '/content/dataset/',\n",
        "    image_size=(150, 150), #이미지 사이즈 조절\n",
        "    batch_size=64,\n",
        "    subset='training',\n",
        "    validation_split=0.2,\n",
        "    seed=1234\n",
        ")\n",
        "\n",
        "val_ds = train_ds = tf.keras.preprocessing.image_dataset_from_directory(\n",
        "    '/content/dataset/',\n",
        "    image_size=(150, 150),\n",
        "    batch_size=64,\n",
        "    subset='validation',\n",
        "    validation_split=0.2,\n",
        "    seed=1234\n",
        ")\n",
        "\n",
        "print(train_ds)\n",
        "# 데이터 전처리 시키기\n",
        "# 전처리 함수\n",
        "def preprocessing_func(i, answer):\n",
        "    i = tf.cast(i/255.0, tf.float32)\n",
        "    return i, answer\n",
        "\n",
        "train_ds = train_ds.map(preprocessing_func)\n",
        "val_ds = val_ds.map(preprocessing_func)\n",
        "\n"
      ],
      "metadata": {
        "colab": {
          "base_uri": "https://localhost:8080/"
        },
        "id": "bpkejXTDhOX9",
        "outputId": "f33d1b2a-7d77-404e-f28f-5ae068dc636c"
      },
      "execution_count": 8,
      "outputs": [
        {
          "output_type": "stream",
          "name": "stdout",
          "text": [
            "Found 25000 files belonging to 2 classes.\n",
            "Using 20000 files for training.\n",
            "Found 25000 files belonging to 2 classes.\n",
            "Using 5000 files for validation.\n",
            "<BatchDataset element_spec=(TensorSpec(shape=(None, 150, 150, 3), dtype=tf.float32, name=None), TensorSpec(shape=(None,), dtype=tf.int32, name=None))>\n"
          ]
        }
      ]
    },
    {
      "cell_type": "markdown",
      "source": [
        "▼ Google Colab에서 Inception 모델 weight이 담긴 h5파일 다운받기"
      ],
      "metadata": {
        "id": "BJYsXpQRkBfT"
      }
    },
    {
      "cell_type": "code",
      "source": [
        "import requests\n",
        "\n",
        "url = 'https://storage.googleapis.com/mledu-datasets/inception_v3_weights_tf_dim_ordering_tf_kernels_notop.h5'\n",
        "r = requests.get(url, allow_redirects=True)\n",
        "\n",
        "open('inception_v3.h5', 'wb').write(r.content)"
      ],
      "metadata": {
        "colab": {
          "base_uri": "https://localhost:8080/"
        },
        "id": "DoM0Qrllj_ms",
        "outputId": "0450e80a-2ee8-4392-e2c9-ec5966fc0eb4"
      },
      "execution_count": null,
      "outputs": [
        {
          "output_type": "execute_result",
          "data": {
            "text/plain": [
              "87910968"
            ]
          },
          "metadata": {},
          "execution_count": 4
        }
      ]
    },
    {
      "cell_type": "markdown",
      "source": [
        "구글의 InceptionV3 model 불러오기"
      ],
      "metadata": {
        "id": "FyThzwNsk5kX"
      }
    },
    {
      "cell_type": "code",
      "source": [
        "from tensorflow.keras.applications.inception_v3 import InceptionV3\n",
        "\n",
        "# 다른 모델을 가져올땐 제작자가 정한 input_shape를 알아야함! or 첫 레이어의 input_shape 수정필요\n",
        "# keras는 input_shape 수정가능하게 끔 파라미터로 설정가능\n",
        "# include_top -> top layer 가져올거냐? 보통 top layer는 마지막 Dense layer를 말함\n",
        "# weights -> w 가중치들 가져올거냐 말거냐 -> 위에서 따로 가중치값들 가져와서 여기선 None\n",
        "inception_model = InceptionV3(input_shape=(150, 150, 3), include_top=False, weights=None)\n",
        "\n",
        "# model + weight 파일\n",
        "inception_model.load_weights('inception_v3.h5')\n",
        "\n",
        "# inception_model.summary()\n",
        "# 우리는 마지막레이어(top) 제외해서 가져왔기 때문에 마지막 Dense레이어른 없음\n",
        "# 이제 여기다가 개, 고양이를 학습시키는데 inceptionV3 모델의 w값들을 업데이트 시키면 안됨!\n",
        "# 따라서 학습금지레이어 설정\n",
        "\n",
        "# inception_model.layers -> 레이어들\n",
        "for i in inception_model.layers:\n",
        "    # 레이어(i)의 학습가능성을 False로 만들기\n",
        "    i.trainable = False\n",
        "\n",
        "# 근데 가끔 기존모델을 아주 살짝만 학습 시키기도함 - Fine tuning\n",
        "# Ex) inceptionV3 model에서 mixed6 레이어 다음부터는 학습시키기\n",
        "# google 문서에선 unfreeze 라는 변수 사용함...\n",
        "unfreeze = False \n",
        "for i in inception_model.layers:\n",
        "    if i.name == 'mixed6':\n",
        "        unfreeze = True\n",
        "    if unfreeze:\n",
        "        i.trainable = True\n",
        "\n",
        "# 원하는 레이어만 뽑아서 내 레이어나 모델과 합치기도 가능\n",
        "last_layer = inception_model.get_layer('mixed7') # -> 레이어 이름 mixed7인 레이어 가져옴\n",
        "print(last_layer)\n",
        "print(last_layer.output)\n",
        "print(last_layer.output_shape)\n",
        "\n",
        "\n"
      ],
      "metadata": {
        "id": "xIXeAcAakbOm",
        "colab": {
          "base_uri": "https://localhost:8080/"
        },
        "outputId": "a6641494-d9a5-4f33-f370-0c9ac4054b12"
      },
      "execution_count": 13,
      "outputs": [
        {
          "output_type": "stream",
          "name": "stdout",
          "text": [
            "<keras.layers.merging.concatenate.Concatenate object at 0x7f153c0d8850>\n",
            "KerasTensor(type_spec=TensorSpec(shape=(None, 7, 7, 768), dtype=tf.float32, name=None), name='mixed7/concat:0', description=\"created by layer 'mixed7'\")\n",
            "(None, 7, 7, 768)\n"
          ]
        }
      ]
    },
    {
      "cell_type": "code",
      "source": [
        "import tensorflow as tf\n",
        "# 구글 인셉션 모델과 내가 만든 레이어 합쳐보자\n",
        "\n",
        "# 중간에 가져온 mixed7 레이어의 output shape(?, 7, 7, 768) -> 너무 복잡.. -> Flatten()\n",
        "\n",
        "layer1 = tf.keras.layers.Flatten()(last_layer.output) # 가져온 레이어의 output\n",
        "layer2 = tf.keras.layers.Dense(1024, activation='relu')(layer1)\n",
        "drop1 = tf.keras.layers.Dropout(0.2)(layer2)\n",
        "output_layer = tf.keras.layers.Dense(1, activation='sigmoid')(drop1)\n",
        "\n",
        "my_model = tf.keras.Model(inception_model.input, output_layer)\n",
        "\n",
        "# optimizer=tf.keras.optimizers.Adam(lr=0.00001) 같이 learning_rate 아주 작게 설정시 w값들 미세하게 업데이트 가능\n",
        "my_model.compile(loss='binary_crossentropy', optimizer='adam', metrics=['acc'])\n",
        "my_model.fit(train_ds, validation_data=val_ds, epochs=2) # 내가 만든 레이어들 학습시켜야함\n",
        "\n"
      ],
      "metadata": {
        "colab": {
          "base_uri": "https://localhost:8080/"
        },
        "id": "7lNA1jaZnygm",
        "outputId": "23a996b1-eb18-4b8a-bd02-d4b8225dd9a5"
      },
      "execution_count": 17,
      "outputs": [
        {
          "output_type": "stream",
          "name": "stdout",
          "text": [
            "Epoch 1/2\n",
            "79/79 [==============================] - 362s 5s/step - loss: 0.3885 - acc: 0.9248 - val_loss: 0.0518 - val_acc: 0.9794\n",
            "Epoch 2/2\n",
            "79/79 [==============================] - 358s 5s/step - loss: 0.0528 - acc: 0.9808 - val_loss: 0.0085 - val_acc: 0.9978\n"
          ]
        },
        {
          "output_type": "execute_result",
          "data": {
            "text/plain": [
              "<keras.callbacks.History at 0x7f153f045b80>"
            ]
          },
          "metadata": {},
          "execution_count": 17
        }
      ]
    }
  ]
}